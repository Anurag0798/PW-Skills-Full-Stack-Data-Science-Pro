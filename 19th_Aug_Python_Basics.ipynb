{
 "cells": [
  {
   "cell_type": "markdown",
   "id": "a8c6608c-50c6-4f03-b403-476a271571cf",
   "metadata": {},
   "source": [
    "Python Basics Variable"
   ]
  },
  {
   "cell_type": "code",
   "execution_count": 15,
   "id": "ff1db67f-0253-4220-ad16-acb3edb4f795",
   "metadata": {},
   "outputs": [
    {
     "name": "stdout",
     "output_type": "stream",
     "text": [
      "Before:\n",
      "x= 1\n",
      "y= 2\n",
      "\n",
      "After:\n",
      "x= 2\n",
      "y= 1\n"
     ]
    }
   ],
   "source": [
    "'''Q1: Declare two variables, `x` and `y`, and assign them integer values.\n",
    "Swap the values of these variables without using any temporary\n",
    "variable.'''\n",
    "\n",
    "x = 1\n",
    "y = 2\n",
    "print(\"Before:\")\n",
    "print(\"x=\",x)\n",
    "print(\"y=\",y)\n",
    "x,y = y,x\n",
    "print()\n",
    "print(\"After:\")\n",
    "print(\"x=\",x)\n",
    "print(\"y=\",y)"
   ]
  },
  {
   "cell_type": "code",
   "execution_count": 18,
   "id": "cdf1414d-b4b8-4191-b5aa-3122b002dfaa",
   "metadata": {},
   "outputs": [
    {
     "name": "stdin",
     "output_type": "stream",
     "text": [
      "Enter the length:  5\n",
      "Enter the width:  6\n"
     ]
    },
    {
     "name": "stdout",
     "output_type": "stream",
     "text": [
      "Area of the rectangle:  30\n"
     ]
    }
   ],
   "source": [
    "'''Q2: Create a program that calculates the area of a rectangle. Take the\n",
    "length and width as inputs from the user and store them in variables.\n",
    "Calculate and display the area.'''\n",
    "\n",
    "a = int(input(\"Enter the length: \"))\n",
    "b = int(input(\"Enter the width: \"))\n",
    "print(\"Area of the rectangle: \",a*b)"
   ]
  },
  {
   "cell_type": "code",
   "execution_count": 19,
   "id": "e58562b6-358b-4012-8ac8-846251ad9ebc",
   "metadata": {},
   "outputs": [
    {
     "name": "stdin",
     "output_type": "stream",
     "text": [
      "Enter temperature in Celsius:  0\n"
     ]
    },
    {
     "name": "stdout",
     "output_type": "stream",
     "text": [
      "Temperature in Fahrenheit:  32.0\n"
     ]
    }
   ],
   "source": [
    "'''Q3: Write a Python program that converts temperature from Celsius to\n",
    "Fahrenheit. Take the temperature in Celsius as input, store it in a\n",
    "variable, convert it to Fahrenheit, and display the result.'''\n",
    "\n",
    "c = int(input(\"Enter temperature in Celsius: \"))\n",
    "f = c*(9/5)+32\n",
    "print(\"Temperature in Fahrenheit: \",f)"
   ]
  },
  {
   "cell_type": "markdown",
   "id": "a10f1d4d-83b1-4673-a63d-72c6f3c7ade2",
   "metadata": {},
   "source": [
    "String Based Questions"
   ]
  },
  {
   "cell_type": "code",
   "execution_count": 20,
   "id": "404df4d9-bfda-462f-b602-0c8a902cfe2b",
   "metadata": {},
   "outputs": [
    {
     "name": "stdin",
     "output_type": "stream",
     "text": [
      " anurag\n"
     ]
    },
    {
     "name": "stdout",
     "output_type": "stream",
     "text": [
      "6\n"
     ]
    }
   ],
   "source": [
    "'''Q1: Write a Python program that takes a string as input and prints the\n",
    "length of the string.'''\n",
    "\n",
    "s = input()\n",
    "print(len(s))"
   ]
  },
  {
   "cell_type": "code",
   "execution_count": 22,
   "id": "ab4bdd1c-0e82-48e2-bf52-d231c3b863b1",
   "metadata": {},
   "outputs": [
    {
     "name": "stdin",
     "output_type": "stream",
     "text": [
      " anurag is a good boy\n"
     ]
    },
    {
     "name": "stdout",
     "output_type": "stream",
     "text": [
      "8\n"
     ]
    }
   ],
   "source": [
    "'''Q2: Create a program that takes a sentence from the user and counts the\n",
    "number of vowels (a, e, i, o, u) in the string.'''\n",
    "\n",
    "sen = input()\n",
    "c = 0\n",
    "for i in sen:\n",
    "    if(i=='a' or i=='e' or i=='i' or i=='o' or i=='u'):\n",
    "        c = c+1\n",
    "        \n",
    "print(c)"
   ]
  },
  {
   "cell_type": "code",
   "execution_count": 23,
   "id": "9fcd3787-1662-4120-9576-84b90b51b243",
   "metadata": {},
   "outputs": [
    {
     "name": "stdin",
     "output_type": "stream",
     "text": [
      " hello nobita, how is doraemon?\n"
     ]
    },
    {
     "name": "stdout",
     "output_type": "stream",
     "text": [
      "?nomearod si woh ,atibon olleh\n"
     ]
    }
   ],
   "source": [
    "'''Q3: Given a string, reverse the order of characters using string slicing and\n",
    "print the reversed string.'''\n",
    "\n",
    "str = input()\n",
    "print(str[::-1])"
   ]
  },
  {
   "cell_type": "code",
   "execution_count": 25,
   "id": "dc9e9511-9769-4ac4-a1ad-aff5bd34448b",
   "metadata": {},
   "outputs": [
    {
     "name": "stdin",
     "output_type": "stream",
     "text": [
      " madam\n"
     ]
    },
    {
     "name": "stdout",
     "output_type": "stream",
     "text": [
      "Pallindrome\n"
     ]
    }
   ],
   "source": [
    "'''Q4: Write a program that takes a string as input and checks if it is a\n",
    "palindrome (reads the same forwards and backwards).'''\n",
    "\n",
    "l = input()\n",
    "m = l[::-1]\n",
    "if(l==m):\n",
    "    print(\"Pallindrome\")\n",
    "else:\n",
    "    print(\"Not a Pallindrome\")"
   ]
  },
  {
   "cell_type": "code",
   "execution_count": 40,
   "id": "7b2f6f33-6b5d-48a7-9db2-1f1e65c85397",
   "metadata": {},
   "outputs": [
    {
     "name": "stdin",
     "output_type": "stream",
     "text": [
      " anurag is a good boy\n"
     ]
    },
    {
     "name": "stdout",
     "output_type": "stream",
     "text": [
      "anuragisagoodboy"
     ]
    }
   ],
   "source": [
    "'''Q5: Create a program that takes a string as input and removes all the\n",
    "spaces from it. Print the modified string without spaces.'''\n",
    "\n",
    "x = input()\n",
    "y = \"\"\n",
    "for i in x:\n",
    "    if(i!=' '):\n",
    "        y = y+i\n",
    "        \n",
    "print(y, end='')"
   ]
  },
  {
   "cell_type": "code",
   "execution_count": null,
   "id": "b76294aa-92fc-47b0-b6b0-8be8e490719a",
   "metadata": {},
   "outputs": [],
   "source": []
  }
 ],
 "metadata": {
  "kernelspec": {
   "display_name": "Python 3 (ipykernel)",
   "language": "python",
   "name": "python3"
  },
  "language_info": {
   "codemirror_mode": {
    "name": "ipython",
    "version": 3
   },
   "file_extension": ".py",
   "mimetype": "text/x-python",
   "name": "python",
   "nbconvert_exporter": "python",
   "pygments_lexer": "ipython3",
   "version": "3.10.8"
  }
 },
 "nbformat": 4,
 "nbformat_minor": 5
}
